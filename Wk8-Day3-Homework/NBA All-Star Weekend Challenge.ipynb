{
 "cells": [
  {
   "cell_type": "markdown",
   "metadata": {},
   "source": [
    "# NBA All-Star Weekend Challenge\n",
    "\n",
    "Your task...answer the following questions given the dataset given about the NBA All-Star Game from the year 2000 - 2016\n",
    "\n",
    "Become more familiar with the dataset <a href=\"https://www.kaggle.com/fmejia21/nba-all-star-game-20002016\">here</a>\n",
    "\n",
    "Once completed, commit this notebook to github and submit the link to the google classroom assignment.\n",
    "\n",
    "<a href=\"https://classroom.google.com/u/2/c/NDc4MzEzMjI5Nzla/a/NTE3OTYxNzM2OTNa/details\">Google Classroom</a>"
   ]
  },
  {
   "cell_type": "markdown",
   "metadata": {},
   "source": [
    "# What is the average weight of all players who played during this time?"
   ]
  },
  {
   "cell_type": "code",
   "execution_count": 9,
   "metadata": {},
   "outputs": [
    {
     "name": "stdout",
     "output_type": "stream",
     "text": [
      "The average weight of all players during this time is: 228.75lbs\n"
     ]
    }
   ],
   "source": [
    "import pandas as pd\n",
    "df = pd.read_csv('files/AllStars.csv')\n",
    "\n",
    "avg_wt = df['WT'].mean()\n",
    "\n",
    "print(f'The average weight of all players during this time is: {round(avg_wt,2)}lbs')\n"
   ]
  },
  {
   "cell_type": "markdown",
   "metadata": {},
   "source": [
    "# What team is represented the most during this time?"
   ]
  },
  {
   "cell_type": "code",
   "execution_count": 60,
   "metadata": {},
   "outputs": [
    {
     "name": "stdout",
     "output_type": "stream",
     "text": [
      "The team most represented during this time was the: Miami Heat with 28 players.\n"
     ]
    }
   ],
   "source": [
    "#groups results by team, then counts the players from each team and sorts them as ascending=False - so highest is at the top of the list\n",
    "#Then we just index the first index (highest players #) via .iloc[0]\n",
    "\n",
    "most_rep_team = df.groupby(['Team'], as_index=False).count().sort_values('Player', ascending=False).reset_index()\n",
    "most_rep_team.iloc[0]['Team']\n",
    "\n",
    "print(f\"The team most represented during this time was the: {most_rep_team.iloc[0]['Team']} with {most_rep_team.iloc[0]['Player']} players.\")"
   ]
  },
  {
   "cell_type": "markdown",
   "metadata": {},
   "source": [
    "# What draft class is represeted the most during this time?"
   ]
  },
  {
   "cell_type": "code",
   "execution_count": 74,
   "metadata": {},
   "outputs": [
    {
     "name": "stdout",
     "output_type": "stream",
     "text": [
      "The draft class represented most during this time was the class of: 1996 with 63 players coming from that class.\n"
     ]
    }
   ],
   "source": [
    "#Creates new column 'Short Draft Class', since we only are interested in the 4 characters representing the draft year\n",
    "df['Short Draft Class'] = df['NBA Draft Status'].str.slice(0,4)\n",
    "#Grouped by 'Short Draft Class' (aka the year the player was drafted) and then count of each occurring draft year\n",
    "#Then sorted so highest is at the top (like we did with the team rankings)\n",
    "ranked_drafts = df.groupby([df['Short Draft Class']]).count().sort_values('Player', ascending=False).reset_index()\n",
    "ranked_drafts\n",
    "\n",
    "print(f\"The draft class represented most during this time was the class of: {ranked_drafts.iloc[0]['Short Draft Class']} with {ranked_drafts.iloc[0]['Player']} players coming from that class.\")"
   ]
  },
  {
   "cell_type": "markdown",
   "metadata": {},
   "source": [
    "# Are foriegn players more prevalent in the All-Star Game during this time?"
   ]
  },
  {
   "cell_type": "code",
   "execution_count": 82,
   "metadata": {},
   "outputs": [
    {
     "name": "stdout",
     "output_type": "stream",
     "text": [
      "Foreign players are not more prevalent in the All-Star game, as American players outnumber them 365 to 74\n"
     ]
    }
   ],
   "source": [
    "#Create a new column determining if the player is foreign or not-foreign\n",
    "df['Foreign'] = 'TEST'\n",
    "\n",
    "#Simple conditional check, where if the player's 'Nationality' column has anything other than 'United States', they are classified as 'Yes' for Foreign\n",
    "df.loc[df['Nationality'] == 'United States', 'Foreign'] = 'No'\n",
    "df.loc[df['Nationality'] != 'United States', 'Foreign'] = 'Yes'\n",
    "#Group and count process we've used for other answers\n",
    "foreign_check = df.groupby(['Foreign']).count().sort_values('Player', ascending=False).reset_index()\n",
    "\n",
    "print(f\"Foreign players are not more prevalent in the All-Star game, as American players outnumber them {foreign_check.iloc[0]['Player']} to {foreign_check.iloc[1]['Player']}\")"
   ]
  },
  {
   "cell_type": "markdown",
   "metadata": {},
   "source": [
    "# How often are the Western All-Stars voted in by fans?"
   ]
  },
  {
   "cell_type": "code",
   "execution_count": 119,
   "metadata": {},
   "outputs": [
    {
     "name": "stdout",
     "output_type": "stream",
     "text": [
      "Historically, All-Stars from the Western Conference are voted in by fans 85 out of 219 times, or 38.81% of the time.\n"
     ]
    }
   ],
   "source": [
    "#Start by looking at JUST the western conference players, they have 3 different allstar categories:\n",
    "#Fan Vote Selection, Coach Selection and Replacement Selection\n",
    "#Single out ONLY the players/allstars that fit one of these 3 selection categories\n",
    "western_selection_df = df.loc[(df['Selection Type'] == 'Western All-Star Fan Vote Selection') | (df['Selection Type'] == 'Western All-Star Coaches Selection') | (df['Selection Type'] == 'Western All-Star Replacement Selection')].reset_index()\n",
    "#Group them by the selection category type, then get hte count of each selection type group\n",
    "western_players = western_selection_df.groupby(['Selection Type']).count()['Player']\n",
    "#Added a little rounding/division to also calculate % of time the players from Western Conference are voted in by fans\n",
    "print(f'Historically, All-Stars from the Western Conference are voted in by fans {western_players[1]} out of {sum(western_players[0:3])} times, or {round((western_players[1]/sum(western_players[0:3]))*100,2)}% of the time.')\n"
   ]
  },
  {
   "cell_type": "markdown",
   "metadata": {},
   "source": [
    "# How many times does Steph Curry make the All-Star game during this time period?"
   ]
  },
  {
   "cell_type": "code",
   "execution_count": 143,
   "metadata": {},
   "outputs": [
    {
     "name": "stdout",
     "output_type": "stream",
     "text": [
      "From 2000 to 2016 Steph Curry made the All-Star game: 4 times.\n"
     ]
    }
   ],
   "source": [
    "#playing around with different ways to access the player by player name, since player names are duplicated if they are selected multiple different years,\n",
    "#we can then just groupby/count the occurrences of his name (since no one else in the league shares his name)\n",
    "steph_curry_selections = df.loc[df['Player'] == 'Stephen Curry'].groupby('Player').count().reset_index().iloc[0]['Year']\n",
    "print(f'From 2000 to 2016 Steph Curry made the All-Star game {steph_curry_selections} times.')"
   ]
  },
  {
   "cell_type": "markdown",
   "metadata": {},
   "source": [
    "# How many Shooting Gaurds have made the All-Star game during this time?"
   ]
  },
  {
   "cell_type": "code",
   "execution_count": 154,
   "metadata": {},
   "outputs": [
    {
     "name": "stdout",
     "output_type": "stream",
     "text": [
      "From 2000 to 2016, there has been a total of 57 Shooting Guards.\n"
     ]
    }
   ],
   "source": [
    "#Adding a 'count' column, to try a new approach at making counting certain occurrences (in this instance Shooting Guard/SG being in the All-Star Game)\n",
    "df['count'] = 1\n",
    "df.groupby(['Pos']).count()['count']\n",
    "allstar_sg = df.groupby(['Pos']).count()['count']['SG']\n",
    "\n",
    "print(f'From 2000 to 2016, there has been a total of {allstar_sg} Shooting Guards.')"
   ]
  },
  {
   "cell_type": "markdown",
   "metadata": {},
   "source": [
    "# How many Chicago Bulls players have made the All-Star Game during this time period?"
   ]
  },
  {
   "cell_type": "code",
   "execution_count": 156,
   "metadata": {},
   "outputs": [
    {
     "name": "stdout",
     "output_type": "stream",
     "text": [
      "During this time period there have been 12 players from the Chicago Bulls that have made the All-Star Game.\n"
     ]
    }
   ],
   "source": [
    "bulls_allstar = df.groupby(['Team']).count()['count']['Chicago Bulls']\n",
    "print(f'During this time period there have been {bulls_allstar} players from the Chicago Bulls that have made the All-Star Game.')"
   ]
  },
  {
   "cell_type": "code",
   "execution_count": null,
   "metadata": {},
   "outputs": [],
   "source": []
  }
 ],
 "metadata": {
  "kernelspec": {
   "display_name": "Python 3",
   "language": "python",
   "name": "python3"
  },
  "language_info": {
   "codemirror_mode": {
    "name": "ipython",
    "version": 3
   },
   "file_extension": ".py",
   "mimetype": "text/x-python",
   "name": "python",
   "nbconvert_exporter": "python",
   "pygments_lexer": "ipython3",
   "version": "3.8.5"
  }
 },
 "nbformat": 4,
 "nbformat_minor": 2
}
