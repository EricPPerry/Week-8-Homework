{
 "cells": [
  {
   "cell_type": "markdown",
   "metadata": {},
   "source": [
    "# AirBnB NY Locations Data Case Study\n",
    "\n",
    "In this final project, you task will be to take the data provided and find evidance to answer the following questions.\n",
    "\n",
    "1. Which hosts are the busiest and why?\n",
    "2. How many neighborhood groups are available and which shows up the most?\n",
    "3. Are private rooms the most popular in manhattan?\n",
    "4. Which hosts are the busiest and based on their reviews?\n",
    "5. Which neighorhood group has the highest average price?\n",
    "6. Which neighborhood group has the highest total price?\n",
    "7. Which top 5 hosts have the highest total price?\n",
    "8. Who currently has no (zero) availability with a review count of 100 or more?\n",
    "9. What host has the highest total of prices and where are they located?\n",
    "10. When did Danielle from Queens last receive a review?\n",
    "\n",
    "You will be given **4 hours** to complete this assignment. \n",
    "**Be Advised** I will go dark for this intire assignment time period. That said, any questions that you would like to ask about the data, or the project **MUST** be asked before the time starts. Once the time has started, I can no longer give information.\n",
    "\n",
    "This is to similate what you will face when you are out in the wild. \n",
    "\n",
    "Happy Coding!"
   ]
  },
  {
   "cell_type": "code",
   "execution_count": 1,
   "metadata": {},
   "outputs": [],
   "source": [
    "import numpy as np\n",
    "import pandas as pd\n",
    "import matplotlib.pyplot as plt"
   ]
  },
  {
   "cell_type": "code",
   "execution_count": 2,
   "metadata": {},
   "outputs": [
    {
     "data": {
      "text/html": [
       "<div>\n",
       "<style scoped>\n",
       "    .dataframe tbody tr th:only-of-type {\n",
       "        vertical-align: middle;\n",
       "    }\n",
       "\n",
       "    .dataframe tbody tr th {\n",
       "        vertical-align: top;\n",
       "    }\n",
       "\n",
       "    .dataframe thead th {\n",
       "        text-align: right;\n",
       "    }\n",
       "</style>\n",
       "<table border=\"1\" class=\"dataframe\">\n",
       "  <thead>\n",
       "    <tr style=\"text-align: right;\">\n",
       "      <th></th>\n",
       "      <th>id</th>\n",
       "      <th>name</th>\n",
       "      <th>host_id</th>\n",
       "      <th>host_name</th>\n",
       "      <th>neighbourhood_group</th>\n",
       "      <th>neighbourhood</th>\n",
       "      <th>latitude</th>\n",
       "      <th>longitude</th>\n",
       "      <th>room_type</th>\n",
       "      <th>price</th>\n",
       "      <th>minimum_nights</th>\n",
       "      <th>number_of_reviews</th>\n",
       "      <th>last_review</th>\n",
       "      <th>reviews_per_month</th>\n",
       "      <th>calculated_host_listings_count</th>\n",
       "      <th>availability_365</th>\n",
       "    </tr>\n",
       "  </thead>\n",
       "  <tbody>\n",
       "    <tr>\n",
       "      <th>0</th>\n",
       "      <td>2539</td>\n",
       "      <td>Clean &amp; quiet apt home by the park</td>\n",
       "      <td>2787</td>\n",
       "      <td>John</td>\n",
       "      <td>Brooklyn</td>\n",
       "      <td>Kensington</td>\n",
       "      <td>40.64749</td>\n",
       "      <td>-73.97237</td>\n",
       "      <td>Private room</td>\n",
       "      <td>149</td>\n",
       "      <td>1</td>\n",
       "      <td>9</td>\n",
       "      <td>2018-10-19</td>\n",
       "      <td>0.21</td>\n",
       "      <td>6</td>\n",
       "      <td>365</td>\n",
       "    </tr>\n",
       "    <tr>\n",
       "      <th>1</th>\n",
       "      <td>2595</td>\n",
       "      <td>Skylit Midtown Castle</td>\n",
       "      <td>2845</td>\n",
       "      <td>Jennifer</td>\n",
       "      <td>Manhattan</td>\n",
       "      <td>Midtown</td>\n",
       "      <td>40.75362</td>\n",
       "      <td>-73.98377</td>\n",
       "      <td>Entire home/apt</td>\n",
       "      <td>225</td>\n",
       "      <td>1</td>\n",
       "      <td>45</td>\n",
       "      <td>2019-05-21</td>\n",
       "      <td>0.38</td>\n",
       "      <td>2</td>\n",
       "      <td>355</td>\n",
       "    </tr>\n",
       "    <tr>\n",
       "      <th>2</th>\n",
       "      <td>3647</td>\n",
       "      <td>THE VILLAGE OF HARLEM....NEW YORK !</td>\n",
       "      <td>4632</td>\n",
       "      <td>Elisabeth</td>\n",
       "      <td>Manhattan</td>\n",
       "      <td>Harlem</td>\n",
       "      <td>40.80902</td>\n",
       "      <td>-73.94190</td>\n",
       "      <td>Private room</td>\n",
       "      <td>150</td>\n",
       "      <td>3</td>\n",
       "      <td>0</td>\n",
       "      <td>NaN</td>\n",
       "      <td>NaN</td>\n",
       "      <td>1</td>\n",
       "      <td>365</td>\n",
       "    </tr>\n",
       "    <tr>\n",
       "      <th>3</th>\n",
       "      <td>3831</td>\n",
       "      <td>Cozy Entire Floor of Brownstone</td>\n",
       "      <td>4869</td>\n",
       "      <td>LisaRoxanne</td>\n",
       "      <td>Brooklyn</td>\n",
       "      <td>Clinton Hill</td>\n",
       "      <td>40.68514</td>\n",
       "      <td>-73.95976</td>\n",
       "      <td>Entire home/apt</td>\n",
       "      <td>89</td>\n",
       "      <td>1</td>\n",
       "      <td>270</td>\n",
       "      <td>2019-07-05</td>\n",
       "      <td>4.64</td>\n",
       "      <td>1</td>\n",
       "      <td>194</td>\n",
       "    </tr>\n",
       "    <tr>\n",
       "      <th>4</th>\n",
       "      <td>5022</td>\n",
       "      <td>Entire Apt: Spacious Studio/Loft by central park</td>\n",
       "      <td>7192</td>\n",
       "      <td>Laura</td>\n",
       "      <td>Manhattan</td>\n",
       "      <td>East Harlem</td>\n",
       "      <td>40.79851</td>\n",
       "      <td>-73.94399</td>\n",
       "      <td>Entire home/apt</td>\n",
       "      <td>80</td>\n",
       "      <td>10</td>\n",
       "      <td>9</td>\n",
       "      <td>2018-11-19</td>\n",
       "      <td>0.10</td>\n",
       "      <td>1</td>\n",
       "      <td>0</td>\n",
       "    </tr>\n",
       "  </tbody>\n",
       "</table>\n",
       "</div>"
      ],
      "text/plain": [
       "     id                                              name  host_id  \\\n",
       "0  2539                Clean & quiet apt home by the park     2787   \n",
       "1  2595                             Skylit Midtown Castle     2845   \n",
       "2  3647               THE VILLAGE OF HARLEM....NEW YORK !     4632   \n",
       "3  3831                   Cozy Entire Floor of Brownstone     4869   \n",
       "4  5022  Entire Apt: Spacious Studio/Loft by central park     7192   \n",
       "\n",
       "     host_name neighbourhood_group neighbourhood  latitude  longitude  \\\n",
       "0         John            Brooklyn    Kensington  40.64749  -73.97237   \n",
       "1     Jennifer           Manhattan       Midtown  40.75362  -73.98377   \n",
       "2    Elisabeth           Manhattan        Harlem  40.80902  -73.94190   \n",
       "3  LisaRoxanne            Brooklyn  Clinton Hill  40.68514  -73.95976   \n",
       "4        Laura           Manhattan   East Harlem  40.79851  -73.94399   \n",
       "\n",
       "         room_type  price  minimum_nights  number_of_reviews last_review  \\\n",
       "0     Private room    149               1                  9  2018-10-19   \n",
       "1  Entire home/apt    225               1                 45  2019-05-21   \n",
       "2     Private room    150               3                  0         NaN   \n",
       "3  Entire home/apt     89               1                270  2019-07-05   \n",
       "4  Entire home/apt     80              10                  9  2018-11-19   \n",
       "\n",
       "   reviews_per_month  calculated_host_listings_count  availability_365  \n",
       "0               0.21                               6               365  \n",
       "1               0.38                               2               355  \n",
       "2                NaN                               1               365  \n",
       "3               4.64                               1               194  \n",
       "4               0.10                               1                 0  "
      ]
     },
     "execution_count": 2,
     "metadata": {},
     "output_type": "execute_result"
    }
   ],
   "source": [
    "df = pd.read_csv('files/AB_NYC_2019.csv')\n",
    "df.head(5)"
   ]
  },
  {
   "cell_type": "code",
   "execution_count": 4,
   "metadata": {},
   "outputs": [
    {
     "name": "stdout",
     "output_type": "stream",
     "text": [
      "In total, there are 221 different neighbourhoods listed. The one that shows up the most is Williamsburg which shows up 3920 times.\n",
      "Additionally - in total there are 5 different neighborhood groups, of which Manhattan is the most popular with 21661 occurrences.\n"
     ]
    }
   ],
   "source": [
    "# How many neighborhood groups are available and which shows up the most?\n",
    "\n",
    "#Added a 'count' column to help frame further counting/quantifying questions a little better\n",
    "df['count'] = 1\n",
    "#this provides us with the elements in the table grouped by 'neighbourhood' name, while also providing a count - and only showing the 'neighbourhood' and 'count' of each neighbourhood (instead of excess/not necessary columns)\n",
    "#this also sorts them, with the highest being first\n",
    "neighbourhoods = df.groupby('neighbourhood', as_index=False).count().sort_values('count', ascending=False)[['neighbourhood','count']]\n",
    "\n",
    "#per the above assigned variable, we can create another variable that is JUST the count of unique neighborhoods(which is 221):\n",
    "hood_count = neighbourhoods['neighbourhood'].count()\n",
    "hood_count\n",
    "\n",
    "#now we look at 'neighbourhoods' which has the neighbourhood name and their corresponding counts, from highest to lowest. \n",
    "#we can then just assign a new variable to be the 'top_neighbourhood'\n",
    "top_neighbourhood = neighbourhoods.head(1)\n",
    "#then for future use, we know we can index the name (top_neighbourhood.iloc[0]['neighbourhood']) and count(top_neighbourhood.iloc[0]['count'])\n",
    "print(f\"In total, there are {hood_count} different neighbourhoods listed. The one that shows up the most is {top_neighbourhood.iloc[0]['neighbourhood']} which shows up {top_neighbourhood.iloc[0]['count']} times.\")\n",
    "top_neighbourhood.iloc[0]['count']\n",
    "\n",
    "\n",
    "#I just realized this question asked for neighbourhood_groups, so here is how you get those answers as well (fortunately it's very similar):\n",
    "neighbourhood_groups = df.groupby('neighbourhood_group', as_index=False).count().sort_values('count', ascending=False)[['neighbourhood_group','count']]\n",
    "neighbourhood_groups_count = neighbourhood_groups['neighbourhood_group'].count()\n",
    "neighbourhood_groups_count\n",
    "\n",
    "#Now we use my tried and true method of finding the neighbourhood_group that occurs the most\n",
    "top_neighbourhood_group = neighbourhood_groups.head(1)\n",
    "\n",
    "\n",
    "top_neighbourhood_group.iloc[0]['neighbourhood_group']\n",
    "top_neighbourhood_group.iloc[0]['count']\n",
    "print(f\"Additionally - in total there are {neighbourhood_groups_count} different neighborhood groups, of which {top_neighbourhood_group.iloc[0]['neighbourhood_group']} is the most popular with {top_neighbourhood_group.iloc[0]['count']} occurrences.\")"
   ]
  },
  {
   "cell_type": "code",
   "execution_count": 144,
   "metadata": {},
   "outputs": [
    {
     "name": "stdout",
     "output_type": "stream",
     "text": [
      "We found that the most popular room type in Manhattan is: Entire home/apt\n"
     ]
    }
   ],
   "source": [
    "# Are private rooms the most popular in manhattan?\n",
    "\n",
    "#first we narrow down the entries for just those in the 'neighbourhood_group' of Manhattan\n",
    "manhattan_listings = df.loc[df['neighbourhood_group'] == 'Manhattan']\n",
    "#now that we only have the Manhattan listings, we're able to group by room types, count them and sort highest to lowest\n",
    "top_manhattan_roomtype = manhattan_listings.groupby('room_type', as_index=False).count().sort_values('count', ascending=False).head(1)\n",
    "#Now we know the first entry in the highest to lowest ranking for room types (Entire home/apt), so we know it is NOT private rooms.\n",
    "print(f\"We found that the most popular room type in Manhattan is: {top_manhattan_roomtype.iloc[0]['room_type']}\")"
   ]
  },
  {
   "cell_type": "code",
   "execution_count": 151,
   "metadata": {},
   "outputs": [
    {
     "name": "stdout",
     "output_type": "stream",
     "text": [
      "From our review, we found that Host ID #: 219517861 was the busiest, as they have the most number of properties on the list.\n",
      "Going by review numbers, we found that Host ID#: 37312959 was the most popular, with 2273 reviews across their properties.\n"
     ]
    }
   ],
   "source": [
    "# Which hosts are the busiest and based on their reviews?\n",
    "#From how the table looks, I am assuming host_names may have duplicates/hosts that have the same name, so I am using host_id\n",
    "#with one line, we're able to group by the host_id (assuming this is unique, vs. host_name which has a chance of being non-unique)\n",
    "#this gives us the host who is 'busiest' based on the # of properties they have listed\n",
    "top_host = df.groupby('host_id', as_index=False).count().sort_values('count', ascending=False)[['host_id','number_of_reviews','count']]\n",
    "top_host.iloc[0]['host_id']\n",
    "print(f\"From our review, we found that Host ID #: {top_host.iloc[0]['host_id']} was the busiest, as they have the most number of properties on the list.\")\n",
    "top_host_by_reviews = df.groupby('host_id',as_index=False).sum().sort_values('number_of_reviews', ascending=False).head(1)\n",
    "#when looking at total # of reviews across hosts, a different host was found to be most popular:\n",
    "print(f\"Going by review numbers, we found that Host ID#: {int(top_host_by_reviews.iloc[0]['host_id'])} was the most popular, with {int(top_host_by_reviews.iloc[0]['number_of_reviews'])} reviews across their properties.\")\n"
   ]
  },
  {
   "cell_type": "code",
   "execution_count": 110,
   "metadata": {},
   "outputs": [
    {
     "name": "stdout",
     "output_type": "stream",
     "text": [
      "According to the data, the neighbourhood group with the highest average price is the neighbourhood group of: Manhattan with an average price of $196.88\n"
     ]
    }
   ],
   "source": [
    "#Which neighorhood group has the highest average price?\n",
    "#We single out the mean/avg neighborhood_group prices, and preemptively sort them from highest to lowest\n",
    "neighbourhood_groups_prices = df.groupby('neighbourhood_group', as_index=False).mean().sort_values('price', ascending=False)[['neighbourhood_group','price']]\n",
    "#then we can just set a variable for the most expensive neighbourhood group\n",
    "priciest_neighbourhood_group = neighbourhood_groups_prices.head(1)\n",
    "\n",
    "print(f\"According to the data, the neighbourhood group with the highest average price is the neighbourhood group of: {priciest_neighbourhood_group.iloc[0]['neighbourhood_group']} with an average price of ${round(priciest_neighbourhood_group.iloc[0]['price'],2)}\")\n"
   ]
  },
  {
   "cell_type": "code",
   "execution_count": 16,
   "metadata": {},
   "outputs": [
    {
     "name": "stdout",
     "output_type": "stream",
     "text": [
      "3 Neighbourhood groups share the title for having the highest priced property, they are: Queens, Brooklyn and Manhattan.\n",
      "According to the data, the Neighbourhood Group with the highest sum of prices is: Manhattan where the sum of all listed prices is: $4264527\n"
     ]
    }
   ],
   "source": [
    "# Which neighbor hood group has the highest total price?\n",
    "df[['neighbourhood_group', 'neighbourhood', 'price']].sort_values('price',ascending=False)\n",
    "highest_price_properties = df[['neighbourhood_group', 'neighbourhood', 'price']].sort_values('price',ascending=False).head(3)\n",
    "\n",
    "#Assuming this question meant the neighbourhood group with the highest priced property, there is a 3 way tie as there are 3 listed at $10,000.00\n",
    "\n",
    "highest_price_properties.iloc[0]['neighbourhood_group'] \n",
    "highest_price_properties.iloc[0]['price']\n",
    "\n",
    "highest_price_properties.iloc[1]['neighbourhood_group'] \n",
    "highest_price_properties.iloc[1]['price']\n",
    "\n",
    "highest_price_properties.iloc[2]['neighbourhood_group'] \n",
    "highest_price_properties.iloc[2]['price']\n",
    "\n",
    "print(f\"3 Neighbourhood groups share the title for having the highest priced property, they are: {highest_price_properties.iloc[0]['neighbourhood_group']}, {highest_price_properties.iloc[1]['neighbourhood_group']} and {highest_price_properties.iloc[2]['neighbourhood_group']}.\")\n",
    "\n",
    "#If this question was looking for the neighbourhood group with the highest sum of all listed prices, it would look a little different:\n",
    "highest_sum_ng = df.groupby('neighbourhood_group', as_index = False).sum()[['neighbourhood_group','price']].sort_values('price', ascending=False).head(1)\n",
    "print(f\"According to the data, the Neighbourhood Group with the highest sum of prices is: {highest_sum_ng.iloc[0]['neighbourhood_group']} where the sum of all listed prices is: ${highest_sum_ng.iloc[0]['price']}\")"
   ]
  },
  {
   "cell_type": "code",
   "execution_count": 32,
   "metadata": {},
   "outputs": [
    {
     "name": "stdout",
     "output_type": "stream",
     "text": [
      "Those hosts with the top 5 highest price listings are: 1st Kathrine - host ID#:20582832 and a price of: $10000, 2nd Erin - host ID#:5143901 and a price of: $10000, 3rd Jelena - host ID#:72390391 and a price of: $10000, 4th Matt - host ID#:4382127 and a price of: $9999 and 5th Amy - host ID#:3906464 and a price of: $9999\n",
      "When ordered by the sum of prices across their properties, the top 5 hosts are: \n",
      "1st - Host ID: 219517861 with prices across their properties adding to: $82795\n",
      "2nd - Host ID: 107434423 with prices across their properties adding to: $70331\n",
      "3rd - Host ID: 156158778 with prices across their properties adding to: $37097\n",
      "4th - Host ID: 205031545 with prices across their properties adding to: $35294\n",
      "5th - Host ID: 30283594 with prices across their properties adding to: $33581\n"
     ]
    }
   ],
   "source": [
    "#Which top 5 hosts have the highest total price?\n",
    "#again, assuming this means the highest 'price' value in the table\n",
    "#Let's boil down the data to the pertinent info: host_id, host_name, price (of property rental) and then sort by the price value\n",
    "#Take .head() which defaults to top 5\n",
    "highest_price_hosts = df[['host_id', 'host_name', 'price']].sort_values('price',ascending=False).head()\n",
    "highest_price_hosts\n",
    "priciest_host_list = []\n",
    "for host in range(len(highest_price_hosts)):\n",
    "    priciest_host_list.append(f\"{highest_price_hosts.iloc[host]['host_name']} - host ID#:{highest_price_hosts.iloc[host]['host_id']} and a price of: ${highest_price_hosts.iloc[host]['price']}\")\n",
    "print(f\"Those hosts with the top 5 highest price listings are: 1st {priciest_host_list[0]}, 2nd {priciest_host_list[1]}, 3rd {priciest_host_list[2]}, 4th {priciest_host_list[3]} and 5th {priciest_host_list[4]}\")\n",
    "\n",
    "#Again, if the question is looking for 5 hosts whose prices sum to the highest, it would be a little different\n",
    "#You would have to group by host_id, then sort by the sum of the price column for each host:\n",
    "highest_sum_hosts = df.groupby('host_id', as_index=False).sum().sort_values('price', ascending=False).head()\n",
    "priciest_sum_host_list = []\n",
    "\n",
    "for host in range(len(highest_sum_hosts)):\n",
    "    priciest_sum_host_list.append(f\"Host ID: {int(highest_sum_hosts.iloc[host]['host_id'])} with prices across their properties adding to: ${round(highest_sum_hosts.iloc[host]['price'])}\")\n",
    "\n",
    "print(f\"When ordered by the sum of prices across their properties, the top 5 hosts are: \")\n",
    "print(f\"1st - {priciest_sum_host_list[0]}\")\n",
    "print(f\"2nd - {priciest_sum_host_list[1]}\")\n",
    "print(f\"3rd - {priciest_sum_host_list[2]}\")\n",
    "print(f\"4th - {priciest_sum_host_list[3]}\")\n",
    "print(f\"5th - {priciest_sum_host_list[4]}\")\n",
    "\n"
   ]
  },
  {
   "cell_type": "code",
   "execution_count": 49,
   "metadata": {},
   "outputs": [
    {
     "name": "stdout",
     "output_type": "stream",
     "text": [
      "There are 136 hosts that both have zero availability and 100 or more reviews, as seen below:\n"
     ]
    },
    {
     "data": {
      "text/html": [
       "<div>\n",
       "<style scoped>\n",
       "    .dataframe tbody tr th:only-of-type {\n",
       "        vertical-align: middle;\n",
       "    }\n",
       "\n",
       "    .dataframe tbody tr th {\n",
       "        vertical-align: top;\n",
       "    }\n",
       "\n",
       "    .dataframe thead th {\n",
       "        text-align: right;\n",
       "    }\n",
       "</style>\n",
       "<table border=\"1\" class=\"dataframe\">\n",
       "  <thead>\n",
       "    <tr style=\"text-align: right;\">\n",
       "      <th></th>\n",
       "      <th>host_id</th>\n",
       "      <th>id</th>\n",
       "      <th>latitude</th>\n",
       "      <th>longitude</th>\n",
       "      <th>price</th>\n",
       "      <th>minimum_nights</th>\n",
       "      <th>number_of_reviews</th>\n",
       "      <th>reviews_per_month</th>\n",
       "      <th>calculated_host_listings_count</th>\n",
       "      <th>availability_365</th>\n",
       "      <th>count</th>\n",
       "    </tr>\n",
       "  </thead>\n",
       "  <tbody>\n",
       "    <tr>\n",
       "      <th>17276</th>\n",
       "      <td>22959695</td>\n",
       "      <td>63732079</td>\n",
       "      <td>203.47368</td>\n",
       "      <td>-369.12657</td>\n",
       "      <td>259</td>\n",
       "      <td>5</td>\n",
       "      <td>1157</td>\n",
       "      <td>30.19</td>\n",
       "      <td>25</td>\n",
       "      <td>0</td>\n",
       "      <td>5</td>\n",
       "    </tr>\n",
       "    <tr>\n",
       "      <th>28819</th>\n",
       "      <td>99392252</td>\n",
       "      <td>61989292</td>\n",
       "      <td>162.76779</td>\n",
       "      <td>-295.77713</td>\n",
       "      <td>226</td>\n",
       "      <td>4</td>\n",
       "      <td>732</td>\n",
       "      <td>22.17</td>\n",
       "      <td>16</td>\n",
       "      <td>0</td>\n",
       "      <td>4</td>\n",
       "    </tr>\n",
       "    <tr>\n",
       "      <th>30142</th>\n",
       "      <td>121391142</td>\n",
       "      <td>35557158</td>\n",
       "      <td>81.33135</td>\n",
       "      <td>-147.52700</td>\n",
       "      <td>130</td>\n",
       "      <td>2</td>\n",
       "      <td>693</td>\n",
       "      <td>24.96</td>\n",
       "      <td>4</td>\n",
       "      <td>0</td>\n",
       "      <td>2</td>\n",
       "    </tr>\n",
       "    <tr>\n",
       "      <th>1866</th>\n",
       "      <td>792159</td>\n",
       "      <td>166172</td>\n",
       "      <td>40.70283</td>\n",
       "      <td>-73.92131</td>\n",
       "      <td>60</td>\n",
       "      <td>3</td>\n",
       "      <td>480</td>\n",
       "      <td>6.70</td>\n",
       "      <td>1</td>\n",
       "      <td>0</td>\n",
       "      <td>1</td>\n",
       "    </tr>\n",
       "    <tr>\n",
       "      <th>21420</th>\n",
       "      <td>37818581</td>\n",
       "      <td>63181911</td>\n",
       "      <td>163.20852</td>\n",
       "      <td>-295.75429</td>\n",
       "      <td>360</td>\n",
       "      <td>4</td>\n",
       "      <td>479</td>\n",
       "      <td>12.16</td>\n",
       "      <td>16</td>\n",
       "      <td>0</td>\n",
       "      <td>4</td>\n",
       "    </tr>\n",
       "    <tr>\n",
       "      <th>...</th>\n",
       "      <td>...</td>\n",
       "      <td>...</td>\n",
       "      <td>...</td>\n",
       "      <td>...</td>\n",
       "      <td>...</td>\n",
       "      <td>...</td>\n",
       "      <td>...</td>\n",
       "      <td>...</td>\n",
       "      <td>...</td>\n",
       "      <td>...</td>\n",
       "      <td>...</td>\n",
       "    </tr>\n",
       "    <tr>\n",
       "      <th>16498</th>\n",
       "      <td>21090508</td>\n",
       "      <td>14455841</td>\n",
       "      <td>81.39672</td>\n",
       "      <td>-147.87008</td>\n",
       "      <td>98</td>\n",
       "      <td>10</td>\n",
       "      <td>100</td>\n",
       "      <td>2.10</td>\n",
       "      <td>4</td>\n",
       "      <td>0</td>\n",
       "      <td>2</td>\n",
       "    </tr>\n",
       "    <tr>\n",
       "      <th>28635</th>\n",
       "      <td>96148809</td>\n",
       "      <td>15523119</td>\n",
       "      <td>40.68227</td>\n",
       "      <td>-73.93479</td>\n",
       "      <td>150</td>\n",
       "      <td>2</td>\n",
       "      <td>100</td>\n",
       "      <td>3.26</td>\n",
       "      <td>1</td>\n",
       "      <td>0</td>\n",
       "      <td>1</td>\n",
       "    </tr>\n",
       "    <tr>\n",
       "      <th>17044</th>\n",
       "      <td>22423049</td>\n",
       "      <td>9544914</td>\n",
       "      <td>40.67157</td>\n",
       "      <td>-73.94117</td>\n",
       "      <td>36</td>\n",
       "      <td>2</td>\n",
       "      <td>100</td>\n",
       "      <td>2.28</td>\n",
       "      <td>1</td>\n",
       "      <td>0</td>\n",
       "      <td>1</td>\n",
       "    </tr>\n",
       "    <tr>\n",
       "      <th>31244</th>\n",
       "      <td>140293912</td>\n",
       "      <td>63907676</td>\n",
       "      <td>121.93851</td>\n",
       "      <td>-221.93403</td>\n",
       "      <td>310</td>\n",
       "      <td>9</td>\n",
       "      <td>100</td>\n",
       "      <td>4.97</td>\n",
       "      <td>9</td>\n",
       "      <td>0</td>\n",
       "      <td>3</td>\n",
       "    </tr>\n",
       "    <tr>\n",
       "      <th>22391</th>\n",
       "      <td>42399786</td>\n",
       "      <td>13065356</td>\n",
       "      <td>40.73564</td>\n",
       "      <td>-73.99823</td>\n",
       "      <td>145</td>\n",
       "      <td>3</td>\n",
       "      <td>100</td>\n",
       "      <td>2.62</td>\n",
       "      <td>1</td>\n",
       "      <td>0</td>\n",
       "      <td>1</td>\n",
       "    </tr>\n",
       "  </tbody>\n",
       "</table>\n",
       "<p>136 rows × 11 columns</p>\n",
       "</div>"
      ],
      "text/plain": [
       "         host_id        id   latitude  longitude  price  minimum_nights  \\\n",
       "17276   22959695  63732079  203.47368 -369.12657    259               5   \n",
       "28819   99392252  61989292  162.76779 -295.77713    226               4   \n",
       "30142  121391142  35557158   81.33135 -147.52700    130               2   \n",
       "1866      792159    166172   40.70283  -73.92131     60               3   \n",
       "21420   37818581  63181911  163.20852 -295.75429    360               4   \n",
       "...          ...       ...        ...        ...    ...             ...   \n",
       "16498   21090508  14455841   81.39672 -147.87008     98              10   \n",
       "28635   96148809  15523119   40.68227  -73.93479    150               2   \n",
       "17044   22423049   9544914   40.67157  -73.94117     36               2   \n",
       "31244  140293912  63907676  121.93851 -221.93403    310               9   \n",
       "22391   42399786  13065356   40.73564  -73.99823    145               3   \n",
       "\n",
       "       number_of_reviews  reviews_per_month  calculated_host_listings_count  \\\n",
       "17276               1157              30.19                              25   \n",
       "28819                732              22.17                              16   \n",
       "30142                693              24.96                               4   \n",
       "1866                 480               6.70                               1   \n",
       "21420                479              12.16                              16   \n",
       "...                  ...                ...                             ...   \n",
       "16498                100               2.10                               4   \n",
       "28635                100               3.26                               1   \n",
       "17044                100               2.28                               1   \n",
       "31244                100               4.97                               9   \n",
       "22391                100               2.62                               1   \n",
       "\n",
       "       availability_365  count  \n",
       "17276                 0      5  \n",
       "28819                 0      4  \n",
       "30142                 0      2  \n",
       "1866                  0      1  \n",
       "21420                 0      4  \n",
       "...                 ...    ...  \n",
       "16498                 0      2  \n",
       "28635                 0      1  \n",
       "17044                 0      1  \n",
       "31244                 0      3  \n",
       "22391                 0      1  \n",
       "\n",
       "[136 rows x 11 columns]"
      ]
     },
     "execution_count": 49,
     "metadata": {},
     "output_type": "execute_result"
    }
   ],
   "source": [
    "# Who currently has no (zero) availability with a review count of 100 or more?\n",
    "\n",
    "#Assuming we are looking for the unique host's with zero availability and at least 100 or more reviews, we apply this logic:\n",
    "zero_df = df.groupby('host_id',as_index=False).sum().sort_values('number_of_reviews', ascending=False)\n",
    "zero_df\n",
    "\n",
    "print('There are 136 hosts that both have zero availability and 100 or more reviews, as seen below:')\n",
    "zero_df.loc[(zero_df['availability_365'] == 0) & (zero_df['number_of_reviews'] >= 100)]\n",
    "\n",
    "#But if we want to approach it as a property-level filter, showing the propery id's that have zero availability and 100+ reviews:\n",
    "print('There are 162 properties that both have zero availability and 100 or more reviews, as seen below: ')\n",
    "zero_df_all_props = df.groupby('id',as_index=False).sum().sort_values('number_of_reviews', ascending=False)\n",
    "zero_df_all_props.loc[(zero_df_all_props['availability_365'] == 0) & (zero_df_all_props['number_of_reviews'] >= 100)]\n"
   ]
  },
  {
   "cell_type": "code",
   "execution_count": 60,
   "metadata": {},
   "outputs": [
    {
     "name": "stdout",
     "output_type": "stream",
     "text": [
      "The host with the highest total of prices is: Host ID#: 219517861, and all of their properties are in the Manhattan neighbourhood group.\n"
     ]
    }
   ],
   "source": [
    "# What host has the highest total of prices and where are they located?\n",
    "\n",
    "#Using the previously generated df (highest_sum_hosts) we can see the highest host has an id of 219517861\n",
    "highest_sum_hosts\n",
    "\n",
    "#Looking at that host's properties closer, we see that all 327 of them are in the Manhattan neighbourhood_group\n",
    "df[df['host_id'] == 219517861].groupby('neighbourhood_group').count()\n",
    "\n",
    "print('The host with the highest total of prices is: Host ID#: 219517861, and all of their properties are in the Manhattan neighbourhood group.')"
   ]
  },
  {
   "cell_type": "code",
   "execution_count": 213,
   "metadata": {},
   "outputs": [
    {
     "name": "stdout",
     "output_type": "stream",
     "text": [
      "Danielle (ID #: 201647469)s last review was on: 2019-06-20\n",
      "Danielle (ID #: 154256662)s last review was on: 2018-01-02\n",
      "Danielle (ID #: 26432133)s last review was on: 2019-07-08\n"
     ]
    },
    {
     "data": {
      "text/html": [
       "<div>\n",
       "<style scoped>\n",
       "    .dataframe tbody tr th:only-of-type {\n",
       "        vertical-align: middle;\n",
       "    }\n",
       "\n",
       "    .dataframe tbody tr th {\n",
       "        vertical-align: top;\n",
       "    }\n",
       "\n",
       "    .dataframe thead th {\n",
       "        text-align: right;\n",
       "    }\n",
       "</style>\n",
       "<table border=\"1\" class=\"dataframe\">\n",
       "  <thead>\n",
       "    <tr style=\"text-align: right;\">\n",
       "      <th></th>\n",
       "      <th>id</th>\n",
       "      <th>name</th>\n",
       "      <th>host_id</th>\n",
       "      <th>host_name</th>\n",
       "      <th>neighbourhood_group</th>\n",
       "      <th>neighbourhood</th>\n",
       "      <th>latitude</th>\n",
       "      <th>longitude</th>\n",
       "      <th>room_type</th>\n",
       "      <th>price</th>\n",
       "      <th>minimum_nights</th>\n",
       "      <th>number_of_reviews</th>\n",
       "      <th>last_review</th>\n",
       "      <th>reviews_per_month</th>\n",
       "      <th>calculated_host_listings_count</th>\n",
       "      <th>availability_365</th>\n",
       "      <th>count</th>\n",
       "    </tr>\n",
       "  </thead>\n",
       "  <tbody>\n",
       "  </tbody>\n",
       "</table>\n",
       "</div>"
      ],
      "text/plain": [
       "Empty DataFrame\n",
       "Columns: [id, name, host_id, host_name, neighbourhood_group, neighbourhood, latitude, longitude, room_type, price, minimum_nights, number_of_reviews, last_review, reviews_per_month, calculated_host_listings_count, availability_365, count]\n",
       "Index: []"
      ]
     },
     "execution_count": 213,
     "metadata": {},
     "output_type": "execute_result"
    }
   ],
   "source": [
    "# When did Danielle from Queens last receive a review?\n",
    "#after narrowing down to hosts with host_name of 'Danielle' who are in 'Queens', it turns out there are 3x Danielle in Queens. \n",
    "#So we group by both host_id and last_review, so we can see the last review for each of the host ID's.\n",
    "danielle_df = df.loc[(df['host_name'] == 'Danielle') & (df['neighbourhood_group'] == 'Queens') & (df['number_of_reviews'] != 0)].sort_values(['host_id','last_review'], ascending=False)\n",
    "danielle_data = []\n",
    "for i in range(len(danielle_df.head(3))):\n",
    "    danielle_data.append(f\"{danielle_df.iloc[i]['host_name']} (ID #: {danielle_df.iloc[i]['host_id']})s last review was on: {danielle_df.iloc[i]['last_review']}\")\n",
    "print(danielle_data[0])\n",
    "print(danielle_data[1])\n",
    "print(danielle_data[2])\n",
    "\n",
    "#As a safety measure, from referencing the data there is no Danielle in 'Queens Village' neighbourhood.\n",
    "danielle_df2 = df.loc[(df['host_name'] == 'Danielle') & (df['neighbourhood'] == 'Queens Village')]\n",
    "danielle_df2"
   ]
  },
  {
   "cell_type": "markdown",
   "metadata": {},
   "source": [
    "## Further Questions\n",
    "\n",
    "1. Which host has the most listings?"
   ]
  },
  {
   "cell_type": "code",
   "execution_count": 214,
   "metadata": {},
   "outputs": [
    {
     "name": "stdout",
     "output_type": "stream",
     "text": [
      "Host ID 219517861 has the most listings according to the data, with 327 listings.\n"
     ]
    }
   ],
   "source": [
    "most_listing_host = df.groupby('host_id', as_index=False).count().sort_values('count', ascending=False)[['host_id','count']].iloc[0]['host_id']\n",
    "most_listing_host_count = df.groupby('host_id', as_index=False).count().sort_values('count', ascending=False)[['host_id','count']].iloc[0]['count']\n",
    "\n",
    "print(f'Host ID {most_listing_host} has the most listings according to the data, with {most_listing_host_count} listings.' )"
   ]
  },
  {
   "cell_type": "markdown",
   "metadata": {},
   "source": [
    "2. How many listings have completely open availability?"
   ]
  },
  {
   "cell_type": "code",
   "execution_count": 5,
   "metadata": {},
   "outputs": [
    {
     "name": "stdout",
     "output_type": "stream",
     "text": [
      "There are currently 1295 properties with completely open availability (365/365 availability).\n"
     ]
    }
   ],
   "source": [
    "open_available = df.loc[df['availability_365'] == 365].count()['count']\n",
    "\n",
    "print(f'There are currently {open_available} properties with completely open availability (365/365 availability).')"
   ]
  },
  {
   "cell_type": "markdown",
   "metadata": {},
   "source": [
    "3. What room_types have the highest review numbers?"
   ]
  },
  {
   "cell_type": "code",
   "execution_count": 246,
   "metadata": {},
   "outputs": [
    {
     "name": "stdout",
     "output_type": "stream",
     "text": [
      "The type of room which has the highest amount of rooms are the: Entire home/apt which has a total of 580403 reviews\n"
     ]
    }
   ],
   "source": [
    "#df.loc['room_type','number_of_reviews']\n",
    "highest_room_type = df.groupby('room_type', as_index=False).sum()[['room_type','number_of_reviews']].sort_values('number_of_reviews', ascending=False).iloc[0]['room_type']\n",
    "highest_room_reviews = df.groupby('room_type', as_index=False).sum()[['room_type','number_of_reviews']].sort_values('number_of_reviews', ascending=False).iloc[0]['number_of_reviews']\n",
    "print(f\"The type of room which has the highest amount of rooms is the: {highest_room_type} which has a total of {highest_room_reviews} reviews\")"
   ]
  },
  {
   "cell_type": "markdown",
   "metadata": {},
   "source": [
    "# Final Conclusion\n",
    "\n",
    "In this cell, write your final conclusion for each of the questions asked.\n",
    "\n",
    "Also, if you uncovered some more details that were not asked above, please discribe them here.\n",
    "\n",
    "-- Add your conclusion --"
   ]
  }
 ],
 "metadata": {
  "kernelspec": {
   "display_name": "Python 3",
   "language": "python",
   "name": "python3"
  },
  "language_info": {
   "codemirror_mode": {
    "name": "ipython",
    "version": 3
   },
   "file_extension": ".py",
   "mimetype": "text/x-python",
   "name": "python",
   "nbconvert_exporter": "python",
   "pygments_lexer": "ipython3",
   "version": "3.8.5"
  }
 },
 "nbformat": 4,
 "nbformat_minor": 2
}
