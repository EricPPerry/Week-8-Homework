{
 "cells": [
  {
   "cell_type": "markdown",
   "metadata": {},
   "source": [
    "# Nba Regular Season 2018-19 Data Challenge\n",
    "\n",
    "Your task will be to take the dataset given, and create an analysis answering the following 10 questions. This project will again test your knowledge of pandas in order to find the answers needed given the data you are presented with."
   ]
  },
  {
   "cell_type": "markdown",
   "metadata": {},
   "source": [
    "# What was the average age of player in the league?"
   ]
  },
  {
   "cell_type": "code",
   "execution_count": 2,
   "metadata": {},
   "outputs": [
    {
     "data": {
      "text/plain": [
       "Index(['Name', 'Height', 'Weight', 'Team', 'Age', 'Salary', 'Points', 'Blocks',\n",
       "       'Steals', 'Assists', 'Rebounds', 'FT%', 'FTA', 'FG3%', 'FG3A', 'FG%',\n",
       "       'FGA', 'MP', 'G', 'PER', 'OWS', 'DWS', 'WS', 'WS48', 'USG', 'BPM',\n",
       "       'VORP'],\n",
       "      dtype='object')"
      ]
     },
     "execution_count": 2,
     "metadata": {},
     "output_type": "execute_result"
    }
   ],
   "source": [
    "import numpy as np\n",
    "import pandas as pd\n",
    "import matplotlib.pyplot as plt\n",
    "df = pd.read_csv('files/nbastats2018-2019.csv')\n",
    "df.columns"
   ]
  },
  {
   "cell_type": "code",
   "execution_count": 36,
   "metadata": {},
   "outputs": [
    {
     "name": "stdout",
     "output_type": "stream",
     "text": [
      "The average age of players in this dataset is: 25.9 years old.\n"
     ]
    }
   ],
   "source": [
    "avg_age = df['Age'].mean()\n",
    "\n",
    "print(f\"The average age of players in this dataset is: {round(avg_age,2)} years old.\")\n"
   ]
  },
  {
   "cell_type": "markdown",
   "metadata": {},
   "source": [
    "# What player scored the most points?"
   ]
  },
  {
   "cell_type": "code",
   "execution_count": 29,
   "metadata": {},
   "outputs": [
    {
     "name": "stdout",
     "output_type": "stream",
     "text": [
      "James Harden had the highest points per game average in this span at: 36.1 per game.\n",
      "The same player James Harden had the highest total points for the season with: 2815.8 (decimal value as it is determine from AVG Per Game x # of Games)\n"
     ]
    },
    {
     "data": {
      "text/html": [
       "<div>\n",
       "<style scoped>\n",
       "    .dataframe tbody tr th:only-of-type {\n",
       "        vertical-align: middle;\n",
       "    }\n",
       "\n",
       "    .dataframe tbody tr th {\n",
       "        vertical-align: top;\n",
       "    }\n",
       "\n",
       "    .dataframe thead th {\n",
       "        text-align: right;\n",
       "    }\n",
       "</style>\n",
       "<table border=\"1\" class=\"dataframe\">\n",
       "  <thead>\n",
       "    <tr style=\"text-align: right;\">\n",
       "      <th></th>\n",
       "      <th>Name</th>\n",
       "      <th>Total Points</th>\n",
       "    </tr>\n",
       "  </thead>\n",
       "  <tbody>\n",
       "    <tr>\n",
       "      <th>202</th>\n",
       "      <td>James Harden</td>\n",
       "      <td>2815.8</td>\n",
       "    </tr>\n",
       "  </tbody>\n",
       "</table>\n",
       "</div>"
      ],
      "text/plain": [
       "             Name  Total Points\n",
       "202  James Harden        2815.8"
      ]
     },
     "execution_count": 29,
     "metadata": {},
     "output_type": "execute_result"
    }
   ],
   "source": [
    "#Two different approaches to this.\n",
    "#1. Most points as it is laid out in the dataset by default, which appears to be the avg PPG\n",
    "#In this case, James Harden would have the highest points per game average of 36.1\n",
    "highest_avg_points = df[['Name','Points']].sort_values('Points', ascending=False).head(1)\n",
    "print(f\"{highest_avg_points.iloc[0]['Name']} had the highest points per game average in this span at: {highest_avg_points.iloc[0]['Points']} per game.\")\n",
    "\n",
    "#2. While it is unlikely to be different, the highest total points for the season could be someone else, in a situation someone only play 1 game and scored a ton of points, they'd technically be the top player with answer #1\n",
    "#To address this, I create a new column 'Total Points' which is equal to the Points (points per game avg) * # of games (giving total points)\n",
    "df['Total Points'] = df['Points'] * df['G']\n",
    "#In the end, the same person had the highest total points for the season (James Harden)\n",
    "highest_total_points = df[['Name', 'Total Points']].sort_values('Total Points', ascending=False).head(1)\n",
    "print(f\"The same player {highest_total_points.iloc[0]['Name']} had the highest total points for the season with: {highest_total_points.iloc[0]['Total Points']} (decimal value as it is determine from AVG Per Game x # of Games)\")\n",
    "\n"
   ]
  },
  {
   "cell_type": "markdown",
   "metadata": {},
   "source": [
    "# What player had the most blocks during the season? Was it a post player (F/C)?"
   ]
  },
  {
   "cell_type": "code",
   "execution_count": 34,
   "metadata": {},
   "outputs": [
    {
     "name": "stdout",
     "output_type": "stream",
     "text": [
      "The player with the most blocks during the season was Myles Turner, who is a post player at the C position.\n"
     ]
    }
   ],
   "source": [
    "#After finding out the total blocks (blocks per game x # of games), I realized there doesn't seem to be a column for position played\n",
    "#The top blocker was Myles Turner, who does indeed play post/C\n",
    "df['Total Blocks'] = df['Blocks'] * df['G']\n",
    "df[['Name','Blocks','Total Blocks']].sort_values('Total Blocks', ascending=False)\n",
    "\n",
    "print('The player with the most blocks during the season was Myles Turner, who is a post player at the C position.')"
   ]
  },
  {
   "cell_type": "markdown",
   "metadata": {},
   "source": [
    "# Based on the regular season, who had the best chance to win a title given their win percentage?"
   ]
  },
  {
   "cell_type": "code",
   "execution_count": 46,
   "metadata": {},
   "outputs": [
    {
     "data": {
      "text/html": [
       "<div>\n",
       "<style scoped>\n",
       "    .dataframe tbody tr th:only-of-type {\n",
       "        vertical-align: middle;\n",
       "    }\n",
       "\n",
       "    .dataframe tbody tr th {\n",
       "        vertical-align: top;\n",
       "    }\n",
       "\n",
       "    .dataframe thead th {\n",
       "        text-align: right;\n",
       "    }\n",
       "</style>\n",
       "<table border=\"1\" class=\"dataframe\">\n",
       "  <thead>\n",
       "    <tr style=\"text-align: right;\">\n",
       "      <th></th>\n",
       "      <th>Name</th>\n",
       "      <th>G</th>\n",
       "      <th>WS48</th>\n",
       "    </tr>\n",
       "  </thead>\n",
       "  <tbody>\n",
       "    <tr>\n",
       "      <th>405</th>\n",
       "      <td>Zhou Qi</td>\n",
       "      <td>1</td>\n",
       "      <td>1.261</td>\n",
       "    </tr>\n",
       "    <tr>\n",
       "      <th>147</th>\n",
       "      <td>Trevon Duval</td>\n",
       "      <td>3</td>\n",
       "      <td>0.537</td>\n",
       "    </tr>\n",
       "    <tr>\n",
       "      <th>394</th>\n",
       "      <td>Gary Payton II</td>\n",
       "      <td>3</td>\n",
       "      <td>0.358</td>\n",
       "    </tr>\n",
       "    <tr>\n",
       "      <th>95</th>\n",
       "      <td>Troy Caupain</td>\n",
       "      <td>4</td>\n",
       "      <td>0.347</td>\n",
       "    </tr>\n",
       "    <tr>\n",
       "      <th>501</th>\n",
       "      <td>Alan Williams</td>\n",
       "      <td>5</td>\n",
       "      <td>0.312</td>\n",
       "    </tr>\n",
       "    <tr>\n",
       "      <th>...</th>\n",
       "      <td>...</td>\n",
       "      <td>...</td>\n",
       "      <td>...</td>\n",
       "    </tr>\n",
       "    <tr>\n",
       "      <th>498</th>\n",
       "      <td>Okaro White</td>\n",
       "      <td>3</td>\n",
       "      <td>-0.251</td>\n",
       "    </tr>\n",
       "    <tr>\n",
       "      <th>242</th>\n",
       "      <td>Andre Ingram</td>\n",
       "      <td>4</td>\n",
       "      <td>-0.408</td>\n",
       "    </tr>\n",
       "    <tr>\n",
       "      <th>14</th>\n",
       "      <td>Ike Anigbogu</td>\n",
       "      <td>3</td>\n",
       "      <td>-0.480</td>\n",
       "    </tr>\n",
       "    <tr>\n",
       "      <th>268</th>\n",
       "      <td>Terrence Jones</td>\n",
       "      <td>2</td>\n",
       "      <td>-0.661</td>\n",
       "    </tr>\n",
       "    <tr>\n",
       "      <th>192</th>\n",
       "      <td>Donte Grantham</td>\n",
       "      <td>3</td>\n",
       "      <td>-0.946</td>\n",
       "    </tr>\n",
       "  </tbody>\n",
       "</table>\n",
       "<p>521 rows × 3 columns</p>\n",
       "</div>"
      ],
      "text/plain": [
       "               Name  G   WS48\n",
       "405         Zhou Qi  1  1.261\n",
       "147    Trevon Duval  3  0.537\n",
       "394  Gary Payton II  3  0.358\n",
       "95     Troy Caupain  4  0.347\n",
       "501   Alan Williams  5  0.312\n",
       "..              ... ..    ...\n",
       "498     Okaro White  3 -0.251\n",
       "242    Andre Ingram  4 -0.408\n",
       "14     Ike Anigbogu  3 -0.480\n",
       "268  Terrence Jones  2 -0.661\n",
       "192  Donte Grantham  3 -0.946\n",
       "\n",
       "[521 rows x 3 columns]"
      ]
     },
     "execution_count": 46,
     "metadata": {},
     "output_type": "execute_result"
    }
   ],
   "source": [
    "df[['Name','G','WS48']].sort_values('WS48', ascending=False)\n",
    "#going off of the Winshare Statistic (and the specific WS48 part of that), we find that the players who had the best chance to win a title was:\n",
    "#Zhou Qi\n"
   ]
  },
  {
   "cell_type": "markdown",
   "metadata": {},
   "source": [
    "# What player had the best 3-pt percentage? "
   ]
  },
  {
   "cell_type": "code",
   "execution_count": 20,
   "metadata": {},
   "outputs": [
    {
     "name": "stdout",
     "output_type": "stream",
     "text": [
      "After filtering the data, I found the player with the best 3-pt percentage was Domantas Sabonis who had a 3pt percentage of: 52.9%\n"
     ]
    }
   ],
   "source": [
    "#While there are a number of players who had 100% 3-pt percentage, I feel like they are outliers/have an extremely small sample size - either a very small # of shots or a very small # of minutes played\n",
    "#As a result, I filtered them out and found the highest 3-pt percentage once that data was 'cleaned'\n",
    "#For this filtering purpose and in anticipation of the next question, I created a new column for 'Total Minutes Played', which is the result of games played * minutes per game\n",
    "df['Total Minutes Played'] = df['MP'] * df['G']\n",
    "df['Total Minutes Played'].mean()\n",
    "#Then I applied a rough filter to get rid of the 100% shooters and those who played less than 400 minutes, which could be refined but I felt this was a good 'floor' to set, with the avg/mean minutes played being 1139 minutes\n",
    "best_3pt_player = df[(df['FG3%'] != 1.00) & (df['Total Minutes Played'] > 400)][['Name','FG3%']].sort_values('FG3%', ascending=False).head(1)\n",
    "#the finding was Domantas Sabonis being the top 3-pt percentage player\n",
    "print(f\"After filtering the data, I found the player with the best 3-pt percentage was {best_3pt_player.iloc[0]['Name']} who had a 3pt percentage of: {round(best_3pt_player.iloc[0]['FG3%']*100,2)}%\")\n"
   ]
  },
  {
   "cell_type": "markdown",
   "metadata": {},
   "source": [
    "# Who played the most minutes during the season"
   ]
  },
  {
   "cell_type": "code",
   "execution_count": 23,
   "metadata": {},
   "outputs": [
    {
     "name": "stdout",
     "output_type": "stream",
     "text": [
      "The player that played the most minutes during the season was: Bradley Beal who played a total of 3026 minutes during the season.\n"
     ]
    }
   ],
   "source": [
    "#This was fairly simple, just re-used the 'Total Minutes Played' column/variable I created in the last problem, then sorted values.\n",
    "df['Total Minutes Played'] = df['MP'] * df['G']\n",
    "highest_minute_player = df[['Name','MP','G','Total Minutes Played']].sort_values('Total Minutes Played', ascending=False).head(1)\n",
    "print(f\"The player that played the most minutes during the season was: {highest_minute_player.iloc[0]['Name']} who played a total of {round(highest_minute_player.iloc[0]['Total Minutes Played'])} minutes during the season.\")\n"
   ]
  },
  {
   "cell_type": "markdown",
   "metadata": {},
   "source": [
    "# What player given their player effiecency rating was the clutchest during the season?"
   ]
  },
  {
   "cell_type": "code",
   "execution_count": 37,
   "metadata": {},
   "outputs": [
    {
     "name": "stdout",
     "output_type": "stream",
     "text": [
      "After filtering the data, I found the most efficient player (via PER ranking) was Giannis Antetokounmpo who has a PER of: 30.9\n"
     ]
    }
   ],
   "source": [
    "#Like the earlier question, I feel like a filter is needed - as the raw data gives the top PER player - Zhou Qi, who played 1 total minute in this season\n",
    "best_per_player = df[df['Total Minutes Played'] > 400][['Name', 'PER']].sort_values('PER', ascending=False).head(1)\n",
    "\n",
    "print(f\"After filtering the data, I found the most efficient player (via PER ranking) was {best_per_player.iloc[0]['Name']} who has a PER of: {best_per_player.iloc[0]['PER']}\")"
   ]
  },
  {
   "cell_type": "markdown",
   "metadata": {},
   "source": [
    "# What team had the youngest roster?"
   ]
  },
  {
   "cell_type": "code",
   "execution_count": 48,
   "metadata": {},
   "outputs": [
    {
     "name": "stdout",
     "output_type": "stream",
     "text": [
      "The team with the youngest roster for this season was the Chicago Bulls with an average age of 24.3125 years.\n"
     ]
    }
   ],
   "source": [
    "#Only thing different in this compared to other grouping/sorting, is we're looking for youngest/lowest value - so we can set 'ascending=True'\n",
    "youngest_team = df[['Team','Age']].groupby('Team', as_index=False).mean().sort_values('Age', ascending=True).iloc[0]\n",
    "print(f\"The team with the youngest roster for this season was the {youngest_team['Team']} with an average age of {youngest_team['Age']} years.\")"
   ]
  },
  {
   "cell_type": "markdown",
   "metadata": {},
   "source": [
    "# Who is the highest paid player during the seasion?"
   ]
  },
  {
   "cell_type": "code",
   "execution_count": 70,
   "metadata": {},
   "outputs": [
    {
     "name": "stdout",
     "output_type": "stream",
     "text": [
      "The highest paid player during the season was Stephen Curry who earned $37457154\n"
     ]
    },
    {
     "name": "stderr",
     "output_type": "stream",
     "text": [
      "<ipython-input-70-e0052a3934b5>:4: SettingWithCopyWarning: \n",
      "A value is trying to be set on a copy of a slice from a DataFrame.\n",
      "Try using .loc[row_indexer,col_indexer] = value instead\n",
      "\n",
      "See the caveats in the documentation: https://pandas.pydata.org/pandas-docs/stable/user_guide/indexing.html#returning-a-view-versus-a-copy\n",
      "  salary_cleaned_df['Salary'] = salary_cleaned_df['Salary'].astype(int)\n"
     ]
    }
   ],
   "source": [
    "salary_cleaned_df = df[df['Salary'] != '-']\n",
    "#this one was tricky, as it appears the 'Salary' field was being treated as a string, so at first the sorting was returning incorrect data\n",
    "#using a simple swap to integer, via .astype(int) resolved this.\n",
    "salary_cleaned_df['Salary'] = salary_cleaned_df['Salary'].astype(int)\n",
    "richest_player = salary_cleaned_df[['Name','Salary']].sort_values('Salary', ascending=False).head(1)\n",
    "\n",
    "print(f\"The highest paid player during the season was {richest_player.iloc[0]['Name']} who earned ${richest_player.iloc[0]['Salary']}\")"
   ]
  },
  {
   "cell_type": "markdown",
   "metadata": {},
   "source": [
    "# At the end of a game, who WOULDN'T you want on the Free Throw Line?"
   ]
  },
  {
   "cell_type": "code",
   "execution_count": 84,
   "metadata": {},
   "outputs": [
    {
     "name": "stdout",
     "output_type": "stream",
     "text": [
      "The best free throw shooter purely by percentage was Gary Clark who had a FT% of: 100.0%\n"
     ]
    }
   ],
   "source": [
    "#Applied the same filter to weed out people who only played VERY small amounts of time\n",
    "best_ft_shooter = df[df['Total Minutes Played'] > 400][['Name','FT%']].sort_values('FT%', ascending=False).head(1)\n",
    "print(f\"The best free throw shooter purely by percentage was {best_ft_shooter.iloc[0]['Name']} who had a FT% of: {best_ft_shooter.iloc[0]['FT%'] *100}%\")"
   ]
  },
  {
   "cell_type": "code",
   "execution_count": null,
   "metadata": {},
   "outputs": [],
   "source": []
  }
 ],
 "metadata": {
  "kernelspec": {
   "display_name": "Python 3",
   "language": "python",
   "name": "python3"
  },
  "language_info": {
   "codemirror_mode": {
    "name": "ipython",
    "version": 3
   },
   "file_extension": ".py",
   "mimetype": "text/x-python",
   "name": "python",
   "nbconvert_exporter": "python",
   "pygments_lexer": "ipython3",
   "version": "3.8.5"
  }
 },
 "nbformat": 4,
 "nbformat_minor": 2
}
